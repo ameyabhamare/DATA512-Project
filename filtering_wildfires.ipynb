{
 "cells": [
  {
   "cell_type": "markdown",
   "metadata": {},
   "source": [
    "#### License"
   ]
  },
  {
   "cell_type": "markdown",
   "metadata": {},
   "source": [
    "This code was developed by Ameya Bhamare. I have taken snippets from Dr. David W. McDonald. \n",
    "This code is provided under the [Creative Commons](https://creativecommons.org) [CC-BY license](https://creativecommons.org/licenses/by/4.0/). Revision 1.0 - August 13, 2023"
   ]
  },
  {
   "cell_type": "markdown",
   "metadata": {},
   "source": [
    "#### Imports"
   ]
  },
  {
   "cell_type": "code",
   "execution_count": 21,
   "metadata": {},
   "outputs": [],
   "source": [
    "#\n",
    "#    IMPORTS\n",
    "# \n",
    "from tqdm import tqdm\n",
    "#    Import some standard python modules\n",
    "import os, json, time\n",
    "#\n",
    "#    The module pyproj is a standard module that can be installed using pip or your other favorite\n",
    "#    installation tool. This module provides tools to convert between different geodesic coordinate systems\n",
    "#    and for calculating distances between points (coordinates) in a specific geodesic system.\n",
    "#\n",
    "from pyproj import Transformer, Geod\n",
    "#\n",
    "#    The 'wildfire' module is a user module. This module is available from the course website. The module\n",
    "#    includes one object, a Reader, that can be used to read the GeoJSON files associated with the\n",
    "#    wildefire dataset. The module also contains a sample datafile that is GeoJSON compliant and that\n",
    "#    contains a small number of California wildfires extracted from the main wildfire dataset.\n",
    "#    \n",
    "from wildfire.wildfire.Reader import Reader as WFReader\n",
    "#\n",
    "#    There is a GeoJSON reader that you might try if you wanted to read the data. It has its own quirks.\n",
    "#    There will be an example below that reads the sample file \"Wildfire_short_sample.json\"\n",
    "#    \n",
    "import geojson\n",
    "#"
   ]
  },
  {
   "cell_type": "code",
   "execution_count": 22,
   "metadata": {},
   "outputs": [],
   "source": [
    "with open('feature_list_135k.json', 'r') as file:\n",
    "    feature_list = json.load(file)"
   ]
  },
  {
   "cell_type": "code",
   "execution_count": 23,
   "metadata": {},
   "outputs": [],
   "source": [
    "def convert_ring_to_epsg4326(ring_data=None):\n",
    "    converted_ring = list()\n",
    "    # We use a pyproj transformer that converts from ESRI:102008 to EPSG:4326 to transform the list of coordinates\n",
    "    to_epsg4326 = Transformer.from_crs(\"ESRI:102008\",\"EPSG:4326\")\n",
    "    # We'll run through the list transforming each ESRI:102008 x,y coordinate into a decimal degree lat,lon\n",
    "    for coord in ring_data:\n",
    "        lat,lon = to_epsg4326.transform(coord[0], coord[1])\n",
    "        new_coord = lat, lon\n",
    "        converted_ring.append(new_coord)\n",
    "    return converted_ring"
   ]
  },
  {
   "cell_type": "code",
   "execution_count": 24,
   "metadata": {},
   "outputs": [],
   "source": [
    "def average_distance_from_place_to_fire_perimeter(place=None, ring_data=None):\n",
    "    # convert the ring data to the right coordinate system\n",
    "    ring = convert_ring_to_epsg4326(ring_data)    \n",
    "    # create a epsg4326 compliant object - which is what the WGS84 ellipsoid is\n",
    "    geodcalc = Geod(ellps='WGS84')\n",
    "    # create a list to store our results\n",
    "    distances_in_meters = list()\n",
    "    # run through each point in the converted ring data\n",
    "    for point in ring:\n",
    "        # calculate the distance\n",
    "        d = geodcalc.inv(place[1], place[0], point[1], point[0])\n",
    "        distances_in_meters.append(d[2])\n",
    "\n",
    "    # convert meters to miles\n",
    "    distances_in_miles = [meters*0.00062137 for meters in distances_in_meters]\n",
    "    # the esri polygon shape (the ring) requires that the first and last coordinates be identical to 'close the region\n",
    "    # we remove one of them so that we don't bias our average by having two of the same point\n",
    "    distances_in_miles_no_dup = distances_in_miles[1:]\n",
    "    # now, average miles\n",
    "    average = sum(distances_in_miles_no_dup) / len(distances_in_miles_no_dup)\n",
    "    return average"
   ]
  },
  {
   "cell_type": "markdown",
   "metadata": {},
   "source": [
    "### I updated the CITY_LOCATIONS dictionary to my city Merced, CA"
   ]
  },
  {
   "cell_type": "code",
   "execution_count": 25,
   "metadata": {},
   "outputs": [],
   "source": [
    "CITY_LOCATIONS = {'merced' : {'city':'Merced', 'latlon' : [37.325954, -120.499992]}}"
   ]
  },
  {
   "cell_type": "code",
   "execution_count": 26,
   "metadata": {},
   "outputs": [],
   "source": [
    "place = CITY_LOCATIONS[\"merced\"]"
   ]
  },
  {
   "cell_type": "markdown",
   "metadata": {},
   "source": [
    "### Filtering Process\n",
    "Including only those fire locations which are within 1250 miles of Merced, CA. Also including fires which happened post 1963.\n",
    "\n",
    "### Smoke Estimate Calculation:\n",
    "In the given dataset, the parameters which give quantitative estimates of the fire are:\n",
    "\n",
    "The Area Burnt by the Fire (direct proportion)\n",
    "The Distance of the Fire from North Platte (inverse proportion)\n",
    "The Intensity of the Fire (direct proportion)\n",
    "The fire intensity can be computed based on the type of the fire (Wildfire, Prescribed Fire etc.) The metadata of the geographic data reveals that wildfire has highest intensity since they are proper fires. Prescribed fires might be smaller fires, hence I assigned a multiplying factor the same and calculated as follows:\n",
    "\n",
    "### Fire-Estimate = (Area * Intensity) / Distance"
   ]
  },
  {
   "cell_type": "code",
   "execution_count": 27,
   "metadata": {},
   "outputs": [],
   "source": [
    "fire_intensity = dict()\n",
    "fire_intensity['Wildfire'] = 2\n",
    "fire_intensity['Likely Wildfire'] = 1.75\n",
    "fire_intensity['Unknown - Likely Wildfire'] = 1.5\n",
    "fire_intensity['Prescribed Fire'] = 1.25\n",
    "fire_intensity['Unknown - Likely Prescribed Fire'] = 1"
   ]
  },
  {
   "cell_type": "code",
   "execution_count": null,
   "metadata": {},
   "outputs": [],
   "source": [
    "\"\"\"\n",
    "Process a list of wildfire features to extract relevant information, calculate distance from a specified place,\n",
    "and estimate smoke based on wildfire size and intensity. Filters wildfires with a year of 1963 or above and a\n",
    "distance within 1250 miles from Merced, CA.\n",
    "\n",
    "Parameters:\n",
    "-----------\n",
    "- feature_list (list): List of wildfire features, each represented as a dictionary.\n",
    "- place (dict): Dictionary containing latitude and longitude information for a specified place.\n",
    "\n",
    "Returns:\n",
    "--------\n",
    "list: A list of dictionaries representing relevant attributes of wildfires that meet the specified criteria,\n",
    "including distance from the specified place and smoke estimate.\n",
    "\n",
    "Usage:\n",
    "------\n",
    "1. Provide the 'feature_list' containing wildfire features and the 'place' dictionary with latitude and longitude.\n",
    "2. Execute the code to process the wildfire features, calculate distance, and estimate smoke.\n",
    "3. The resulting 'rel_fires' list will contain relevant attributes of wildfires meeting the specified criteria.\n",
    "\"\"\""
   ]
  },
  {
   "cell_type": "code",
   "execution_count": 28,
   "metadata": {},
   "outputs": [
    {
     "name": "stderr",
     "output_type": "stream",
     "text": [
      " 81%|████████  | 109607/135061 [1:58:35<22:54, 18.52it/s]  "
     ]
    },
    {
     "name": "stdout",
     "output_type": "stream",
     "text": [
      "Exception occurred, ring param was missing\n"
     ]
    },
    {
     "name": "stderr",
     "output_type": "stream",
     "text": [
      " 82%|████████▏ | 110225/135061 [1:59:17<24:12, 17.10it/s]"
     ]
    },
    {
     "name": "stdout",
     "output_type": "stream",
     "text": [
      "Exception occurred, ring param was missing\n"
     ]
    },
    {
     "name": "stderr",
     "output_type": "stream",
     "text": [
      " 82%|████████▏ | 110643/135061 [1:59:45<17:04, 23.84it/s]"
     ]
    },
    {
     "name": "stdout",
     "output_type": "stream",
     "text": [
      "Exception occurred, ring param was missing\n"
     ]
    },
    {
     "name": "stderr",
     "output_type": "stream",
     "text": [
      " 83%|████████▎ | 111433/135061 [2:00:39<24:40, 15.96it/s]"
     ]
    },
    {
     "name": "stdout",
     "output_type": "stream",
     "text": [
      "Exception occurred, ring param was missing\n"
     ]
    },
    {
     "name": "stderr",
     "output_type": "stream",
     "text": [
      " 83%|████████▎ | 111777/135061 [2:01:01<17:17, 22.44it/s]"
     ]
    },
    {
     "name": "stdout",
     "output_type": "stream",
     "text": [
      "Exception occurred, ring param was missing\n"
     ]
    },
    {
     "name": "stderr",
     "output_type": "stream",
     "text": [
      " 83%|████████▎ | 111899/135061 [2:01:07<18:48, 20.52it/s]"
     ]
    },
    {
     "name": "stdout",
     "output_type": "stream",
     "text": [
      "Exception occurred, ring param was missing\n"
     ]
    },
    {
     "name": "stderr",
     "output_type": "stream",
     "text": [
      " 83%|████████▎ | 112410/135061 [2:01:38<26:13, 14.40it/s]"
     ]
    },
    {
     "name": "stdout",
     "output_type": "stream",
     "text": [
      "Exception occurred, ring param was missing\n"
     ]
    },
    {
     "name": "stderr",
     "output_type": "stream",
     "text": [
      " 83%|████████▎ | 112416/135061 [2:01:38<32:15, 11.70it/s]"
     ]
    },
    {
     "name": "stdout",
     "output_type": "stream",
     "text": [
      "Exception occurred, ring param was missing\n"
     ]
    },
    {
     "name": "stderr",
     "output_type": "stream",
     "text": [
      " 84%|████████▍ | 113411/135061 [2:02:43<26:49, 13.45it/s]"
     ]
    },
    {
     "name": "stdout",
     "output_type": "stream",
     "text": [
      "Exception occurred, ring param was missing\n"
     ]
    },
    {
     "name": "stderr",
     "output_type": "stream",
     "text": [
      " 84%|████████▍ | 113666/135061 [2:03:01<20:43, 17.21it/s]"
     ]
    },
    {
     "name": "stdout",
     "output_type": "stream",
     "text": [
      "Exception occurred, ring param was missing\n"
     ]
    },
    {
     "name": "stderr",
     "output_type": "stream",
     "text": [
      " 84%|████████▍ | 113738/135061 [2:03:06<25:53, 13.72it/s]"
     ]
    },
    {
     "name": "stdout",
     "output_type": "stream",
     "text": [
      "Exception occurred, ring param was missing\n"
     ]
    },
    {
     "name": "stderr",
     "output_type": "stream",
     "text": [
      " 84%|████████▍ | 113767/135061 [2:03:08<26:02, 13.63it/s]"
     ]
    },
    {
     "name": "stdout",
     "output_type": "stream",
     "text": [
      "Exception occurred, ring param was missing\n"
     ]
    },
    {
     "name": "stderr",
     "output_type": "stream",
     "text": [
      " 84%|████████▍ | 113807/135061 [2:03:10<23:12, 15.26it/s]"
     ]
    },
    {
     "name": "stdout",
     "output_type": "stream",
     "text": [
      "Exception occurred, ring param was missing\n"
     ]
    },
    {
     "name": "stderr",
     "output_type": "stream",
     "text": [
      " 85%|████████▍ | 114310/135061 [2:03:45<27:26, 12.60it/s]"
     ]
    },
    {
     "name": "stdout",
     "output_type": "stream",
     "text": [
      "Exception occurred, ring param was missing\n"
     ]
    },
    {
     "name": "stderr",
     "output_type": "stream",
     "text": [
      " 85%|████████▍ | 114323/135061 [2:03:46<22:38, 15.26it/s]"
     ]
    },
    {
     "name": "stdout",
     "output_type": "stream",
     "text": [
      "Exception occurred, ring param was missing\n"
     ]
    },
    {
     "name": "stderr",
     "output_type": "stream",
     "text": [
      " 86%|████████▌ | 115631/135061 [2:05:09<14:07, 22.94it/s]"
     ]
    },
    {
     "name": "stdout",
     "output_type": "stream",
     "text": [
      "Exception occurred, ring param was missing\n"
     ]
    },
    {
     "name": "stderr",
     "output_type": "stream",
     "text": [
      " 86%|████████▌ | 115976/135061 [2:05:27<21:55, 14.51it/s]"
     ]
    },
    {
     "name": "stdout",
     "output_type": "stream",
     "text": [
      "Exception occurred, ring param was missing\n"
     ]
    },
    {
     "name": "stderr",
     "output_type": "stream",
     "text": [
      " 86%|████████▌ | 116236/135061 [2:05:43<20:26, 15.35it/s]"
     ]
    },
    {
     "name": "stdout",
     "output_type": "stream",
     "text": [
      "Exception occurred, ring param was missing\n"
     ]
    },
    {
     "name": "stderr",
     "output_type": "stream",
     "text": [
      " 87%|████████▋ | 117087/135061 [2:06:42<20:03, 14.94it/s]"
     ]
    },
    {
     "name": "stdout",
     "output_type": "stream",
     "text": [
      "Exception occurred, ring param was missing\n"
     ]
    },
    {
     "name": "stderr",
     "output_type": "stream",
     "text": [
      " 89%|████████▊ | 119583/135061 [2:09:29<19:00, 13.58it/s]"
     ]
    },
    {
     "name": "stdout",
     "output_type": "stream",
     "text": [
      "Exception occurred, ring param was missing\n"
     ]
    },
    {
     "name": "stderr",
     "output_type": "stream",
     "text": [
      " 89%|████████▊ | 119618/135061 [2:09:31<16:44, 15.37it/s]"
     ]
    },
    {
     "name": "stdout",
     "output_type": "stream",
     "text": [
      "Exception occurred, ring param was missing\n"
     ]
    },
    {
     "name": "stderr",
     "output_type": "stream",
     "text": [
      " 89%|████████▊ | 119751/135061 [2:09:40<18:06, 14.09it/s]"
     ]
    },
    {
     "name": "stdout",
     "output_type": "stream",
     "text": [
      "Exception occurred, ring param was missing\n"
     ]
    },
    {
     "name": "stderr",
     "output_type": "stream",
     "text": [
      " 89%|████████▉ | 119983/135061 [2:09:54<20:42, 12.13it/s]"
     ]
    },
    {
     "name": "stdout",
     "output_type": "stream",
     "text": [
      "Exception occurred, ring param was missing\n"
     ]
    },
    {
     "name": "stderr",
     "output_type": "stream",
     "text": [
      " 89%|████████▉ | 120214/135061 [2:10:09<16:23, 15.09it/s]"
     ]
    },
    {
     "name": "stdout",
     "output_type": "stream",
     "text": [
      "Exception occurred, ring param was missing\n"
     ]
    },
    {
     "name": "stderr",
     "output_type": "stream",
     "text": [
      " 89%|████████▉ | 120432/135061 [2:10:23<20:02, 12.17it/s]"
     ]
    },
    {
     "name": "stdout",
     "output_type": "stream",
     "text": [
      "Exception occurred, ring param was missing\n"
     ]
    },
    {
     "name": "stderr",
     "output_type": "stream",
     "text": [
      " 89%|████████▉ | 120679/135061 [2:10:38<13:54, 17.24it/s]"
     ]
    },
    {
     "name": "stdout",
     "output_type": "stream",
     "text": [
      "Exception occurred, ring param was missing\n"
     ]
    },
    {
     "name": "stderr",
     "output_type": "stream",
     "text": [
      " 89%|████████▉ | 120745/135061 [2:10:42<13:49, 17.25it/s]"
     ]
    },
    {
     "name": "stdout",
     "output_type": "stream",
     "text": [
      "Exception occurred, ring param was missing\n"
     ]
    },
    {
     "name": "stderr",
     "output_type": "stream",
     "text": [
      " 90%|████████▉ | 121012/135061 [2:10:59<14:08, 16.55it/s]"
     ]
    },
    {
     "name": "stdout",
     "output_type": "stream",
     "text": [
      "Exception occurred, ring param was missing\n"
     ]
    },
    {
     "name": "stderr",
     "output_type": "stream",
     "text": [
      " 91%|█████████ | 122264/135061 [2:12:23<13:55, 15.31it/s]"
     ]
    },
    {
     "name": "stdout",
     "output_type": "stream",
     "text": [
      "Exception occurred, ring param was missing\n"
     ]
    },
    {
     "name": "stderr",
     "output_type": "stream",
     "text": [
      " 91%|█████████ | 122532/135061 [2:12:40<11:18, 18.46it/s]"
     ]
    },
    {
     "name": "stdout",
     "output_type": "stream",
     "text": [
      "Exception occurred, ring param was missing\n"
     ]
    },
    {
     "name": "stderr",
     "output_type": "stream",
     "text": [
      " 92%|█████████▏| 123762/135061 [2:14:02<12:46, 14.74it/s]"
     ]
    },
    {
     "name": "stdout",
     "output_type": "stream",
     "text": [
      "Exception occurred, ring param was missing\n"
     ]
    },
    {
     "name": "stderr",
     "output_type": "stream",
     "text": [
      " 92%|█████████▏| 124535/135061 [2:14:54<11:48, 14.87it/s]"
     ]
    },
    {
     "name": "stdout",
     "output_type": "stream",
     "text": [
      "Exception occurred, ring param was missing\n"
     ]
    },
    {
     "name": "stderr",
     "output_type": "stream",
     "text": [
      " 93%|█████████▎| 125048/135061 [2:15:27<07:53, 21.13it/s]"
     ]
    },
    {
     "name": "stdout",
     "output_type": "stream",
     "text": [
      "Exception occurred, ring param was missing\n"
     ]
    },
    {
     "name": "stderr",
     "output_type": "stream",
     "text": [
      " 93%|█████████▎| 125746/135061 [2:16:08<12:16, 12.65it/s]"
     ]
    },
    {
     "name": "stdout",
     "output_type": "stream",
     "text": [
      "Exception occurred, ring param was missing\n"
     ]
    },
    {
     "name": "stderr",
     "output_type": "stream",
     "text": [
      " 94%|█████████▍| 127493/135061 [2:18:04<07:37, 16.55it/s]"
     ]
    },
    {
     "name": "stdout",
     "output_type": "stream",
     "text": [
      "Exception occurred, ring param was missing\n"
     ]
    },
    {
     "name": "stderr",
     "output_type": "stream",
     "text": [
      "100%|██████████| 135061/135061 [2:29:33<00:00, 15.05it/s] \n"
     ]
    }
   ],
   "source": [
    "rel_fires = []\n",
    "for wf_feature in tqdm(feature_list):\n",
    "    try:\n",
    "      wf_year = wf_feature['attributes']['Fire_Year']\n",
    "      wf_name = wf_feature['attributes']['Listed_Fire_Names'].split(',')[0]\n",
    "      wf_size = wf_feature['attributes']['GIS_Acres']\n",
    "      wf_type = wf_feature['attributes']['Assigned_Fire_Type']\n",
    "      ring_data = wf_feature['geometry']['rings'][0]\n",
    "    except:\n",
    "      print(\"Exception occurred, ring param was missing\")\n",
    "    # Checking if wildfire_year is 1963 or above\n",
    "    if wf_year >= 1963:\n",
    "      distance = average_distance_from_place_to_fire_perimeter(place['latlon'],ring_data)\n",
    "      # Checking if distance of wildfire (in miles) is within 1250 miles from Merced, CA\n",
    "      if distance < 1250:\n",
    "        ring = convert_ring_to_epsg4326(ring_data)\n",
    "        wf_feature['attributes']['distance'] = distance\n",
    "        # Smoke estimate calculation\n",
    "        smoke_estimate = (wf_size * fire_intensity[wf_type]) / distance\n",
    "        wf_feature['attributes']['smoke_estimate'] = smoke_estimate\n",
    "        rel_fires.append(wf_feature['attributes'])"
   ]
  },
  {
   "cell_type": "code",
   "execution_count": 29,
   "metadata": {},
   "outputs": [],
   "source": [
    "with open('filtered_fires_1963_to_2023.json', 'w') as json_file:\n",
    "    json.dump(rel_fires, json_file)"
   ]
  }
 ],
 "metadata": {
  "kernelspec": {
   "display_name": "base",
   "language": "python",
   "name": "python3"
  },
  "language_info": {
   "codemirror_mode": {
    "name": "ipython",
    "version": 3
   },
   "file_extension": ".py",
   "mimetype": "text/x-python",
   "name": "python",
   "nbconvert_exporter": "python",
   "pygments_lexer": "ipython3",
   "version": "3.9.13"
  }
 },
 "nbformat": 4,
 "nbformat_minor": 2
}
